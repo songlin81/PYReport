{
 "cells": [
  {
   "cell_type": "markdown",
   "metadata": {},
   "source": [
    "### 1. Array"
   ]
  },
  {
   "cell_type": "code",
   "execution_count": 17,
   "metadata": {},
   "outputs": [
    {
     "name": "stdout",
     "output_type": "stream",
     "text": [
      "[1 2 3]\n",
      "<class 'numpy.ndarray'>\n"
     ]
    }
   ],
   "source": [
    "import numpy as np\n",
    "\n",
    "t1 = np.array([1,2,3,])\n",
    "print(t1)\n",
    "print(type(t1))"
   ]
  },
  {
   "cell_type": "code",
   "execution_count": 18,
   "metadata": {},
   "outputs": [
    {
     "name": "stdout",
     "output_type": "stream",
     "text": [
      "[0 1 2 3 4 5 6 7 8 9]\n"
     ]
    }
   ],
   "source": [
    "t2 = np.array(range(10))\n",
    "print(t2)"
   ]
  },
  {
   "cell_type": "code",
   "execution_count": 19,
   "metadata": {},
   "outputs": [
    {
     "name": "stdout",
     "output_type": "stream",
     "text": [
      "[4 6 8]\n",
      "int32\n",
      "<class 'numpy.ndarray'>\n"
     ]
    }
   ],
   "source": [
    "t3 = np.arange(4,10,2)\n",
    "print(t3)\n",
    "print(t3.dtype)\n",
    "print(type(t3))"
   ]
  },
  {
   "cell_type": "code",
   "execution_count": 20,
   "metadata": {},
   "outputs": [
    {
     "name": "stdout",
     "output_type": "stream",
     "text": [
      "[1. 2. 3.]\n",
      "float64\n"
     ]
    }
   ],
   "source": [
    "t4 = np.array(range(1,4), dtype=float)\n",
    "print(t4)\n",
    "print(t4.dtype)"
   ]
  },
  {
   "cell_type": "code",
   "execution_count": 22,
   "metadata": {},
   "outputs": [
    {
     "name": "stdout",
     "output_type": "stream",
     "text": [
      "[ True  True False  True False False]\n",
      "bool\n"
     ]
    }
   ],
   "source": [
    "t5 = np.array([1,1,0,1,0,0], dtype=bool)\n",
    "print(t5)\n",
    "print(t5.dtype)"
   ]
  },
  {
   "cell_type": "code",
   "execution_count": 23,
   "metadata": {},
   "outputs": [
    {
     "name": "stdout",
     "output_type": "stream",
     "text": [
      "[1 1 0 1 0 0]\n",
      "int8\n"
     ]
    }
   ],
   "source": [
    "t6 = t5.astype(\"int8\")\n",
    "print(t6)\n",
    "print(t6.dtype)"
   ]
  },
  {
   "cell_type": "code",
   "execution_count": 27,
   "metadata": {},
   "outputs": [
    {
     "name": "stdout",
     "output_type": "stream",
     "text": [
      "[0.4757123  0.32304928 0.31567081 0.11265698 0.46611222 0.91094618\n",
      " 0.95128961 0.03284702 0.62865437 0.06992712]\n",
      "float64\n",
      "[0.48 0.32 0.32 0.11 0.47 0.91 0.95 0.03 0.63 0.07]\n"
     ]
    }
   ],
   "source": [
    "import random\n",
    "t7 = np.array([random.random() for i in range(10)])\n",
    "print(t7)\n",
    "print(t7.dtype)\n",
    "\n",
    "t8 = np.round(t7, 2)\n",
    "print(t8)"
   ]
  },
  {
   "cell_type": "code",
   "execution_count": 31,
   "metadata": {},
   "outputs": [
    {
     "name": "stdout",
     "output_type": "stream",
     "text": [
      "0.37\n",
      "0.359\n"
     ]
    }
   ],
   "source": [
    "print(\"%.2f\"%random.random())\n",
    "print(\"%.3f\"%random.random())"
   ]
  },
  {
   "cell_type": "markdown",
   "metadata": {},
   "source": [
    "### 2. Array Compute"
   ]
  },
  {
   "cell_type": "code",
   "execution_count": 34,
   "metadata": {},
   "outputs": [
    {
     "name": "stdout",
     "output_type": "stream",
     "text": [
      "[ 0  1  2  3  4  5  6  7  8  9 10 11]\n",
      "(12,)\n"
     ]
    }
   ],
   "source": [
    "import numpy as np\n",
    "t1 = np.arange(12)\n",
    "print(t1)\n",
    "print(t1.shape)"
   ]
  },
  {
   "cell_type": "code",
   "execution_count": 38,
   "metadata": {},
   "outputs": [
    {
     "name": "stdout",
     "output_type": "stream",
     "text": [
      "[[1 2 3]\n",
      " [4 5 6]]\n",
      "(2, 3)\n"
     ]
    }
   ],
   "source": [
    "t2 = np.array([[1,2,3],[4,5,6]])\n",
    "print(t2)\n",
    "print(t2.shape)"
   ]
  },
  {
   "cell_type": "code",
   "execution_count": 39,
   "metadata": {},
   "outputs": [
    {
     "name": "stdout",
     "output_type": "stream",
     "text": [
      "[[[ 1  2  3]\n",
      "  [ 4  5  6]]\n",
      "\n",
      " [[ 7  8  9]\n",
      "  [10 11 12]]]\n",
      "(2, 2, 3)\n"
     ]
    }
   ],
   "source": [
    "t3 = np.array([[[1,2,3],[4,5,6]],[[7,8,9],[10,11,12]]])\n",
    "print(t3)\n",
    "print(t3.shape)"
   ]
  },
  {
   "cell_type": "code",
   "execution_count": 47,
   "metadata": {},
   "outputs": [
    {
     "name": "stdout",
     "output_type": "stream",
     "text": [
      "[ 0  1  2  3  4  5  6  7  8  9 10 11]\n",
      "[[ 0  1  2  3]\n",
      " [ 4  5  6  7]\n",
      " [ 8  9 10 11]]\n"
     ]
    }
   ],
   "source": [
    "t4 = np.arange(12)\n",
    "print(t4)\n",
    "t4 = t4.reshape(3,4)\n",
    "print(t4)"
   ]
  },
  {
   "cell_type": "code",
   "execution_count": 80,
   "metadata": {},
   "outputs": [
    {
     "name": "stdout",
     "output_type": "stream",
     "text": [
      "[[[ 0  1  2  3]\n",
      "  [ 4  5  6  7]\n",
      "  [ 8  9 10 11]]\n",
      "\n",
      " [[12 13 14 15]\n",
      "  [16 17 18 19]\n",
      "  [20 21 22 23]]]\n"
     ]
    }
   ],
   "source": [
    "t5 = np.arange(24).reshape(2,3,4)\n",
    "print(t5)"
   ]
  },
  {
   "cell_type": "code",
   "execution_count": 81,
   "metadata": {},
   "outputs": [
    {
     "data": {
      "text/plain": [
       "array([[ 0,  1,  2,  3,  4,  5],\n",
       "       [ 6,  7,  8,  9, 10, 11],\n",
       "       [12, 13, 14, 15, 16, 17],\n",
       "       [18, 19, 20, 21, 22, 23]])"
      ]
     },
     "execution_count": 81,
     "metadata": {},
     "output_type": "execute_result"
    }
   ],
   "source": [
    "t5.reshape(4,6) # no mutation applied to itself"
   ]
  },
  {
   "cell_type": "code",
   "execution_count": 82,
   "metadata": {},
   "outputs": [
    {
     "data": {
      "text/plain": [
       "array([[[ 0,  1,  2,  3],\n",
       "        [ 4,  5,  6,  7],\n",
       "        [ 8,  9, 10, 11]],\n",
       "\n",
       "       [[12, 13, 14, 15],\n",
       "        [16, 17, 18, 19],\n",
       "        [20, 21, 22, 23]]])"
      ]
     },
     "execution_count": 82,
     "metadata": {},
     "output_type": "execute_result"
    }
   ],
   "source": [
    "t5"
   ]
  },
  {
   "cell_type": "code",
   "execution_count": 88,
   "metadata": {},
   "outputs": [
    {
     "name": "stdout",
     "output_type": "stream",
     "text": [
      "[[ 0  1  2  3  4  5  6  7  8  9 10 11 12 13 14 15 16 17 18 19 20 21 22 23]]\n"
     ]
    }
   ],
   "source": [
    "t5=t5.reshape(1,24)\n",
    "print(t5)"
   ]
  },
  {
   "cell_type": "code",
   "execution_count": 71,
   "metadata": {},
   "outputs": [
    {
     "data": {
      "text/plain": [
       "24"
      ]
     },
     "execution_count": 71,
     "metadata": {},
     "output_type": "execute_result"
    }
   ],
   "source": [
    "t5.shape[0]*t5.shape[1]"
   ]
  },
  {
   "cell_type": "code",
   "execution_count": 75,
   "metadata": {},
   "outputs": [
    {
     "name": "stdout",
     "output_type": "stream",
     "text": [
      "[ 0  1  2  3  4  5  6  7  8  9 10 11 12 13 14 15 16 17 18 19 20 21 22 23]\n"
     ]
    }
   ],
   "source": [
    "t6 = t5.reshape(t5.shape[0]*t5.shape[1],)\n",
    "print(t6)"
   ]
  },
  {
   "cell_type": "code",
   "execution_count": 89,
   "metadata": {},
   "outputs": [
    {
     "name": "stdout",
     "output_type": "stream",
     "text": [
      "[[ 0  1  2  3  4  5]\n",
      " [ 6  7  8  9 10 11]\n",
      " [12 13 14 15 16 17]\n",
      " [18 19 20 21 22 23]]\n"
     ]
    }
   ],
   "source": [
    "t5 = t5.reshape(4,6) \n",
    "print(t5)"
   ]
  },
  {
   "cell_type": "code",
   "execution_count": 92,
   "metadata": {},
   "outputs": [
    {
     "data": {
      "text/plain": [
       "array([ 0,  1,  2,  3,  4,  5,  6,  7,  8,  9, 10, 11, 12, 13, 14, 15, 16,\n",
       "       17, 18, 19, 20, 21, 22, 23])"
      ]
     },
     "execution_count": 92,
     "metadata": {},
     "output_type": "execute_result"
    }
   ],
   "source": [
    "t5.flatten()"
   ]
  },
  {
   "cell_type": "code",
   "execution_count": 95,
   "metadata": {},
   "outputs": [
    {
     "data": {
      "text/plain": [
       "array([[ 0,  1,  2,  3,  4,  5],\n",
       "       [ 6,  7,  8,  9, 10, 11],\n",
       "       [12, 13, 14, 15, 16, 17],\n",
       "       [18, 19, 20, 21, 22, 23]])"
      ]
     },
     "execution_count": 95,
     "metadata": {},
     "output_type": "execute_result"
    }
   ],
   "source": [
    "t5"
   ]
  },
  {
   "cell_type": "code",
   "execution_count": 96,
   "metadata": {},
   "outputs": [
    {
     "data": {
      "text/plain": [
       "array([[ 2,  3,  4,  5,  6,  7],\n",
       "       [ 8,  9, 10, 11, 12, 13],\n",
       "       [14, 15, 16, 17, 18, 19],\n",
       "       [20, 21, 22, 23, 24, 25]])"
      ]
     },
     "execution_count": 96,
     "metadata": {},
     "output_type": "execute_result"
    }
   ],
   "source": [
    "t5+2"
   ]
  },
  {
   "cell_type": "code",
   "execution_count": 97,
   "metadata": {},
   "outputs": [
    {
     "data": {
      "text/plain": [
       "array([[ 0. ,  0.5,  1. ,  1.5,  2. ,  2.5],\n",
       "       [ 3. ,  3.5,  4. ,  4.5,  5. ,  5.5],\n",
       "       [ 6. ,  6.5,  7. ,  7.5,  8. ,  8.5],\n",
       "       [ 9. ,  9.5, 10. , 10.5, 11. , 11.5]])"
      ]
     },
     "execution_count": 97,
     "metadata": {},
     "output_type": "execute_result"
    }
   ],
   "source": [
    "t5/2"
   ]
  },
  {
   "cell_type": "code",
   "execution_count": 99,
   "metadata": {},
   "outputs": [],
   "source": [
    "t6 = np.arange(100, 124).reshape(4,6)"
   ]
  },
  {
   "cell_type": "code",
   "execution_count": 100,
   "metadata": {},
   "outputs": [
    {
     "data": {
      "text/plain": [
       "array([[100, 101, 102, 103, 104, 105],\n",
       "       [106, 107, 108, 109, 110, 111],\n",
       "       [112, 113, 114, 115, 116, 117],\n",
       "       [118, 119, 120, 121, 122, 123]])"
      ]
     },
     "execution_count": 100,
     "metadata": {},
     "output_type": "execute_result"
    }
   ],
   "source": [
    "t6"
   ]
  },
  {
   "cell_type": "code",
   "execution_count": 101,
   "metadata": {},
   "outputs": [
    {
     "data": {
      "text/plain": [
       "array([[100, 102, 104, 106, 108, 110],\n",
       "       [112, 114, 116, 118, 120, 122],\n",
       "       [124, 126, 128, 130, 132, 134],\n",
       "       [136, 138, 140, 142, 144, 146]])"
      ]
     },
     "execution_count": 101,
     "metadata": {},
     "output_type": "execute_result"
    }
   ],
   "source": [
    "t5+t6"
   ]
  },
  {
   "cell_type": "markdown",
   "metadata": {},
   "source": [
    "### 3. Read file\n",
    "###### ref: https://github.com/TheisTrue/DataAnalysis"
   ]
  },
  {
   "cell_type": "code",
   "execution_count": 116,
   "metadata": {},
   "outputs": [
    {
     "name": "stdout",
     "output_type": "stream",
     "text": [
      "[[4394029 7860119 5845909 ...  142463 2162240  515000]\n",
      " [ 320053  185853  576597 ...    4231   41032   34727]\n",
      " [   5931   26679   39774 ...     148    1384     195]\n",
      " [  46245       0  170708 ...     279    4737    4722]]\n",
      "********************\n",
      "[[7426393   78240   13548     705]\n",
      " [ 494203    2651    1309       0]\n",
      " [ 142819   13119     151    1141]\n",
      " ...\n",
      " [ 109222    4840      35     212]\n",
      " [ 626223   22962     532    1559]\n",
      " [  99228    1699      23     135]]\n"
     ]
    }
   ],
   "source": [
    "import numpy as np\n",
    "\n",
    "us_file_path=r\".\\youtube_video_data\\US_video_data_numbers.csv\"\n",
    "uk_file_path=r\".\\youtube_video_data\\GB_video_data_numbers.csv\"\n",
    "\n",
    "# transpose\n",
    "t1 = np.loadtxt(us_file_path, delimiter=\",\", dtype=\"int\", unpack=True)\n",
    "t2 = np.loadtxt(uk_file_path, delimiter=\",\", dtype=\"int\")\n",
    "print(t1)\n",
    "print(\"*\"*20)\n",
    "print(t2)"
   ]
  },
  {
   "cell_type": "code",
   "execution_count": 112,
   "metadata": {},
   "outputs": [
    {
     "name": "stdout",
     "output_type": "stream",
     "text": [
      "[[ 0  1  2  3  4  5]\n",
      " [ 6  7  8  9 10 11]\n",
      " [12 13 14 15 16 17]\n",
      " [18 19 20 21 22 23]]\n"
     ]
    },
    {
     "data": {
      "text/plain": [
       "array([[ 0,  6, 12, 18],\n",
       "       [ 1,  7, 13, 19],\n",
       "       [ 2,  8, 14, 20],\n",
       "       [ 3,  9, 15, 21],\n",
       "       [ 4, 10, 16, 22],\n",
       "       [ 5, 11, 17, 23]])"
      ]
     },
     "execution_count": 112,
     "metadata": {},
     "output_type": "execute_result"
    }
   ],
   "source": [
    "t3 = np.arange(24).reshape(4,6)\n",
    "print(t3)\n",
    "t3.transpose()"
   ]
  },
  {
   "cell_type": "code",
   "execution_count": 113,
   "metadata": {},
   "outputs": [
    {
     "data": {
      "text/plain": [
       "array([[ 0,  6, 12, 18],\n",
       "       [ 1,  7, 13, 19],\n",
       "       [ 2,  8, 14, 20],\n",
       "       [ 3,  9, 15, 21],\n",
       "       [ 4, 10, 16, 22],\n",
       "       [ 5, 11, 17, 23]])"
      ]
     },
     "execution_count": 113,
     "metadata": {},
     "output_type": "execute_result"
    }
   ],
   "source": [
    "t3.T"
   ]
  },
  {
   "cell_type": "code",
   "execution_count": 114,
   "metadata": {},
   "outputs": [
    {
     "data": {
      "text/plain": [
       "array([[ 0,  6, 12, 18],\n",
       "       [ 1,  7, 13, 19],\n",
       "       [ 2,  8, 14, 20],\n",
       "       [ 3,  9, 15, 21],\n",
       "       [ 4, 10, 16, 22],\n",
       "       [ 5, 11, 17, 23]])"
      ]
     },
     "execution_count": 114,
     "metadata": {},
     "output_type": "execute_result"
    }
   ],
   "source": [
    "t3.swapaxes(1,0)"
   ]
  },
  {
   "cell_type": "code",
   "execution_count": 121,
   "metadata": {},
   "outputs": [
    {
     "name": "stdout",
     "output_type": "stream",
     "text": [
      "[142819  13119    151   1141]\n",
      "[[ 142819   13119     151    1141]\n",
      " [1580028   65729    1529    3598]\n",
      " [  40592    5019      57     490]\n",
      " ...\n",
      " [ 109222    4840      35     212]\n",
      " [ 626223   22962     532    1559]\n",
      " [  99228    1699      23     135]]\n",
      "[[ 142819   13119     151    1141]\n",
      " [  65453    2761      33     223]\n",
      " [1121715   65988     591   51025]]\n"
     ]
    }
   ],
   "source": [
    "print(t2[2])\n",
    "print(t2[2:])\n",
    "print(t2[[2,8,10]])"
   ]
  },
  {
   "cell_type": "code",
   "execution_count": 131,
   "metadata": {},
   "outputs": [
    {
     "name": "stdout",
     "output_type": "stream",
     "text": [
      "[494203   2651   1309      0]\n",
      "[[ 142819   13119     151    1141]\n",
      " [  65453    2761      33     223]\n",
      " [1121715   65988     591   51025]]\n",
      "[7426393  494203  142819 ...  109222  626223   99228]\n",
      "[[13548   705]\n",
      " [ 1309     0]\n",
      " [  151  1141]\n",
      " ...\n",
      " [   35   212]\n",
      " [  532  1559]\n",
      " [   23   135]]\n",
      "[[7426393   13548]\n",
      " [ 494203    1309]\n",
      " [ 142819     151]\n",
      " ...\n",
      " [ 109222      35]\n",
      " [ 626223     532]\n",
      " [  99228      23]]\n",
      "1141\n",
      "[[13119   151  1141]\n",
      " [65729  1529  3598]\n",
      " [ 5019    57   490]]\n",
      "[7426393   13119    1141]\n"
     ]
    }
   ],
   "source": [
    "print(t2[1,:])\n",
    "print(t2[[2,8,10],:])\n",
    "print(t2[:,0])\n",
    "print(t2[:,2:])\n",
    "print(t2[:,[0,2]])\n",
    "print(t2[2,3])\n",
    "print(t2[2:5, 1:4])\n",
    "print(t2[[0,2,2],[0,1,3]]) #取不相邻点 (0,0), (2,1) and (2,3)"
   ]
  },
  {
   "cell_type": "code",
   "execution_count": 135,
   "metadata": {},
   "outputs": [
    {
     "name": "stdout",
     "output_type": "stream",
     "text": [
      "[[ 0  1  2  3  4  5]\n",
      " [ 6  7  8  9 10 11]\n",
      " [12 13 14 15 16 17]\n",
      " [18 19 20 21 22 23]]\n",
      "[[ 0  1  0  0  4  5]\n",
      " [ 6  7  0  0 10 11]\n",
      " [12 13  0  0 16 17]\n",
      " [18 19  0  0 22 23]]\n"
     ]
    }
   ],
   "source": [
    "t2 = np.arange(24).reshape(4,6)\n",
    "print(t2)\n",
    "t2[:,2:4]=0\n",
    "print(t2)"
   ]
  },
  {
   "cell_type": "code",
   "execution_count": 136,
   "metadata": {},
   "outputs": [
    {
     "data": {
      "text/plain": [
       "array([[ True,  True,  True,  True,  True,  True],\n",
       "       [ True,  True,  True,  True, False, False],\n",
       "       [False, False,  True,  True, False, False],\n",
       "       [False, False,  True,  True, False, False]])"
      ]
     },
     "execution_count": 136,
     "metadata": {},
     "output_type": "execute_result"
    }
   ],
   "source": [
    "t2<10"
   ]
  },
  {
   "cell_type": "code",
   "execution_count": 142,
   "metadata": {},
   "outputs": [
    {
     "data": {
      "text/plain": [
       "array([[ 0,  0,  0,  0,  0,  0],\n",
       "       [ 0,  0,  0,  0, 10, 11],\n",
       "       [12, 13,  0,  0, 16, 17],\n",
       "       [18, 19,  0,  0, 22, 23]])"
      ]
     },
     "execution_count": 142,
     "metadata": {},
     "output_type": "execute_result"
    }
   ],
   "source": [
    "t2[t2<10]=0\n",
    "t2"
   ]
  },
  {
   "cell_type": "code",
   "execution_count": 147,
   "metadata": {},
   "outputs": [
    {
     "name": "stdout",
     "output_type": "stream",
     "text": [
      "[[ 0  1  2  3  4  5]\n",
      " [ 6  7  8  9 10 11]\n",
      " [12 13 14 15 16 17]\n",
      " [18 19 20 21 22 23]]\n",
      "[[ 0  0  0  0  0  0]\n",
      " [ 0  0  0  0  0 10]\n",
      " [10 10 10 10 10 10]\n",
      " [10 10 10 10 10 10]]\n"
     ]
    }
   ],
   "source": [
    "t2 = np.arange(24).reshape(4,6)\n",
    "print(t2)\n",
    "t2 = np.where(t2<=10,0,10)\n",
    "print(t2)"
   ]
  },
  {
   "cell_type": "code",
   "execution_count": 148,
   "metadata": {},
   "outputs": [
    {
     "name": "stdout",
     "output_type": "stream",
     "text": [
      "[[ 0  1  2  3  4  5]\n",
      " [ 6  7  8  9 10 11]\n",
      " [12 13 14 15 16 17]\n",
      " [18 19 20 21 22 23]]\n",
      "[[10 10 10 10 10 10]\n",
      " [10 10 10 10 10 11]\n",
      " [12 13 14 15 16 17]\n",
      " [18 18 18 18 18 18]]\n"
     ]
    }
   ],
   "source": [
    "t2 = np.arange(24).reshape(4,6)\n",
    "print(t2)\n",
    "t2 = t2.clip(10,18)\n",
    "print(t2)"
   ]
  },
  {
   "cell_type": "code",
   "execution_count": 153,
   "metadata": {},
   "outputs": [
    {
     "name": "stdout",
     "output_type": "stream",
     "text": [
      "[[ 0  1  2  3  4  5]\n",
      " [ 6  7  8  9 10 11]\n",
      " [12 13 14 15 16 17]\n",
      " [18 19 20 21 22 23]]\n",
      "21\n",
      "[[ 0.  1.  2.  3.  4.  5.]\n",
      " [ 6.  7.  8.  9. 10. 11.]\n",
      " [12. 13. 14. 15. 16. 17.]\n",
      " [18. 19. 20. nan 22. 23.]]\n"
     ]
    }
   ],
   "source": [
    "t2 = np.arange(24).reshape(4,6)\n",
    "print(t2)\n",
    "print(t2[3,3])\n",
    "\n",
    "t2 = t2.astype(float)\n",
    "t2[3,3] = np.nan\n",
    "print(t2)"
   ]
  },
  {
   "cell_type": "code",
   "execution_count": 158,
   "metadata": {},
   "outputs": [
    {
     "name": "stdout",
     "output_type": "stream",
     "text": [
      "[[ 0  1  2  3  4  5]\n",
      " [ 6  7  8  9 10 11]]\n",
      "[[12 13 14 15 16 17]\n",
      " [18 19 20 21 22 23]]\n",
      "[[ 0  1  2  3  4  5]\n",
      " [ 6  7  8  9 10 11]\n",
      " [12 13 14 15 16 17]\n",
      " [18 19 20 21 22 23]]\n",
      "[[ 0  1  2  3  4  5 12 13 14 15 16 17]\n",
      " [ 6  7  8  9 10 11 18 19 20 21 22 23]]\n"
     ]
    }
   ],
   "source": [
    "t1 = np.arange(12).reshape(2,6)\n",
    "print(t1)\n",
    "t2 = np.arange(12,24).reshape(2,6)\n",
    "print(t2)\n",
    "print(np.vstack((t1,t2)))\n",
    "print(np.hstack((t1,t2)))"
   ]
  },
  {
   "cell_type": "code",
   "execution_count": 160,
   "metadata": {},
   "outputs": [
    {
     "name": "stdout",
     "output_type": "stream",
     "text": [
      "[[12 13 14 15]\n",
      " [16 17 18 19]\n",
      " [20 21 22 23]]\n",
      "[[12 13 14 15]\n",
      " [20 21 22 23]\n",
      " [16 17 18 19]]\n",
      "[[14 13 12 15]\n",
      " [22 21 20 23]\n",
      " [18 17 16 19]]\n"
     ]
    }
   ],
   "source": [
    "t = np.arange(12, 24).reshape(3,4)\n",
    "print(t)\n",
    "t[[1,2],:] = t[[2,1],:]\n",
    "print(t)\n",
    "t[:,[0,2]] = t[:,[2,0]]\n",
    "print(t)"
   ]
  },
  {
   "cell_type": "code",
   "execution_count": 238,
   "metadata": {},
   "outputs": [
    {
     "name": "stdout",
     "output_type": "stream",
     "text": [
      "[[4394029  320053    5931   46245]\n",
      " [7860119  185853   26679       0]\n",
      " [5845909  576597   39774  170708]\n",
      " ...\n",
      " [ 142463    4231     148     279]\n",
      " [2162240   41032    1384    4737]\n",
      " [ 515000   34727     195    4722]]\n",
      "********************\n",
      "[[7426393   78240   13548     705]\n",
      " [ 494203    2651    1309       0]\n",
      " [ 142819   13119     151    1141]\n",
      " ...\n",
      " [ 109222    4840      35     212]\n",
      " [ 626223   22962     532    1559]\n",
      " [  99228    1699      23     135]]\n"
     ]
    }
   ],
   "source": [
    "import numpy as np\n",
    "\n",
    "us_data=r\".\\youtube_video_data\\US_video_data_numbers.csv\"\n",
    "uk_data=r\".\\youtube_video_data\\GB_video_data_numbers.csv\"\n",
    "\n",
    "us_data = np.loadtxt(us_data, delimiter=\",\", dtype=\"int\")\n",
    "uk_data = np.loadtxt(uk_data, delimiter=\",\", dtype=\"int\")\n",
    "print(us_data)\n",
    "print(\"*\"*20)\n",
    "print(uk_data)"
   ]
  },
  {
   "cell_type": "code",
   "execution_count": 184,
   "metadata": {},
   "outputs": [
    {
     "name": "stdout",
     "output_type": "stream",
     "text": [
      "[[0]\n",
      " [0]\n",
      " [0]\n",
      " ...\n",
      " [0]\n",
      " [0]\n",
      " [0]]\n",
      "[[1]\n",
      " [1]\n",
      " [1]\n",
      " ...\n",
      " [1]\n",
      " [1]\n",
      " [1]]\n"
     ]
    }
   ],
   "source": [
    "zeros_data = np.zeros((us_data.shape[0],1)).astype(int)\n",
    "ones_data = np.ones((uk_data.shape[0],1)).astype(int)\n",
    "print(zeros_data)\n",
    "print(ones_data)"
   ]
  },
  {
   "cell_type": "code",
   "execution_count": 185,
   "metadata": {},
   "outputs": [
    {
     "name": "stdout",
     "output_type": "stream",
     "text": [
      "[[4394029  320053    5931   46245       0]\n",
      " [7860119  185853   26679       0       0]\n",
      " [5845909  576597   39774  170708       0]\n",
      " ...\n",
      " [ 142463    4231     148     279       0]\n",
      " [2162240   41032    1384    4737       0]\n",
      " [ 515000   34727     195    4722       0]]\n",
      "[[7426393   78240   13548     705       1]\n",
      " [ 494203    2651    1309       0       1]\n",
      " [ 142819   13119     151    1141       1]\n",
      " ...\n",
      " [ 109222    4840      35     212       1]\n",
      " [ 626223   22962     532    1559       1]\n",
      " [  99228    1699      23     135       1]]\n"
     ]
    }
   ],
   "source": [
    "us_data = np.hstack((us_data, zeros_data))\n",
    "uk_data = np.hstack((uk_data, ones_data))\n",
    "print(us_data)\n",
    "print(uk_data)"
   ]
  },
  {
   "cell_type": "code",
   "execution_count": 187,
   "metadata": {},
   "outputs": [
    {
     "name": "stdout",
     "output_type": "stream",
     "text": [
      "[[4394029  320053    5931   46245       0]\n",
      " [7860119  185853   26679       0       0]\n",
      " [5845909  576597   39774  170708       0]\n",
      " ...\n",
      " [ 109222    4840      35     212       1]\n",
      " [ 626223   22962     532    1559       1]\n",
      " [  99228    1699      23     135       1]]\n"
     ]
    }
   ],
   "source": [
    "final_data = np.vstack((us_data, uk_data))\n",
    "print(final_data)"
   ]
  },
  {
   "cell_type": "code",
   "execution_count": 193,
   "metadata": {},
   "outputs": [
    {
     "name": "stdout",
     "output_type": "stream",
     "text": [
      "[[1. 1. 1.]\n",
      " [1. 1. 1.]]\n",
      "[[0. 0. 0. 0.]\n",
      " [0. 0. 0. 0.]\n",
      " [0. 0. 0. 0.]]\n"
     ]
    }
   ],
   "source": [
    "print(np.ones((2,3)))\n",
    "print(np.zeros((3,4)))"
   ]
  },
  {
   "cell_type": "code",
   "execution_count": 196,
   "metadata": {},
   "outputs": [
    {
     "name": "stdout",
     "output_type": "stream",
     "text": [
      "[[1. 0. 0.]\n",
      " [0. 1. 0.]\n",
      " [0. 0. 1.]]\n",
      "[0 1 2]\n",
      "[[-1.  0.  0.]\n",
      " [ 0. -1.  0.]\n",
      " [ 0.  0. -1.]]\n",
      "[0 1 2]\n"
     ]
    }
   ],
   "source": [
    "t=np.eye(3)\n",
    "print(t)\n",
    "print(np.argmax(t, axis=0))\n",
    "\n",
    "t[t==1]=-1\n",
    "print(t)\n",
    "print(np.argmin(t, axis=1))"
   ]
  },
  {
   "cell_type": "code",
   "execution_count": 199,
   "metadata": {},
   "outputs": [
    {
     "data": {
      "text/plain": [
       "array([[19, 17, 17, 18, 12],\n",
       "       [17, 14, 10, 14, 10],\n",
       "       [10, 12, 13, 14, 18],\n",
       "       [11, 14, 15, 10, 15]])"
      ]
     },
     "execution_count": 199,
     "metadata": {},
     "output_type": "execute_result"
    }
   ],
   "source": [
    "np.random.randint(10,20,(4,5))"
   ]
  },
  {
   "cell_type": "code",
   "execution_count": 204,
   "metadata": {},
   "outputs": [
    {
     "name": "stdout",
     "output_type": "stream",
     "text": [
      "[[ 9  4 15  0]\n",
      " [17 16 17  8]\n",
      " [ 9  0 10  8]]\n"
     ]
    }
   ],
   "source": [
    "np.random.seed(10)\n",
    "t = np.random.randint(0,20,(3,4))\n",
    "print(t)"
   ]
  },
  {
   "cell_type": "code",
   "execution_count": 207,
   "metadata": {},
   "outputs": [
    {
     "name": "stdout",
     "output_type": "stream",
     "text": [
      "<class 'float'>\n",
      "<class 'float'>\n",
      "False\n",
      "True\n"
     ]
    }
   ],
   "source": [
    "print(type(np.inf))\n",
    "print(type(np.nan))\n",
    "\n",
    "print(np.nan == np.nan)\n",
    "print(np.nan != np.nan)"
   ]
  },
  {
   "cell_type": "code",
   "execution_count": 223,
   "metadata": {},
   "outputs": [
    {
     "name": "stdout",
     "output_type": "stream",
     "text": [
      "[[ 9.  4. 15.  0.]\n",
      " [17. 16. 17.  8.]\n",
      " [ 9.  0. 10.  8.]]\n",
      "[[ 0.  4. 15.  0.]\n",
      " [ 0. 16. 17.  8.]\n",
      " [ 0.  0. 10.  8.]]\n",
      "7\n",
      "XXXXXXXXXXXXXXXXXXXX\n",
      "[[ 0.  4. 15.  0.]\n",
      " [ 0. 16. 17.  8.]\n",
      " [ 0.  0. nan  8.]]\n",
      "7\n",
      "1\n",
      "ZZZZZZZZZZZZZZZZZZZZ\n",
      "[[False False False False]\n",
      " [False False False False]\n",
      " [False False  True False]]\n",
      "[[False False False False]\n",
      " [False False False False]\n",
      " [False False  True False]]\n",
      "nan\n",
      "WWWWWWWWWWWWWWWWWWWW\n",
      "[[ 0  1  2  3]\n",
      " [ 4  5  6  7]\n",
      " [ 8  9 10 11]]\n",
      "66\n",
      "[12 15 18 21]\n",
      "[ 6 22 38]\n"
     ]
    }
   ],
   "source": [
    "np.random.seed(10)\n",
    "t = np.random.randint(0,20,(3,4)).astype(float)\n",
    "print(t)\n",
    "\n",
    "t[:, 0] = 0\n",
    "print(t)\n",
    "print(np.count_nonzero(t))\n",
    "print(\"X\"*20)\n",
    "\n",
    "t[2,2]=np.nan\n",
    "print(t)\n",
    "print(np.count_nonzero(t))\n",
    "print(np.count_nonzero(t!=t))\n",
    "print(\"Z\"*20)\n",
    "\n",
    "print(t!=t)\n",
    "print(np.isnan(t))\n",
    "print(np.sum(t))\n",
    "print(\"W\"*20)\n",
    "\n",
    "t3 = np.arange(12).reshape(3,4)\n",
    "print(t3)\n",
    "print(np.sum(t3))\n",
    "print(np.sum(t3, axis=0))\n",
    "print(np.sum(t3, axis=1))"
   ]
  },
  {
   "cell_type": "code",
   "execution_count": 231,
   "metadata": {},
   "outputs": [
    {
     "name": "stdout",
     "output_type": "stream",
     "text": [
      "[[ 9.  4. 15.  0.]\n",
      " [17. 16. 17.  8.]\n",
      " [ 9.  0. 10.  8.]]\n",
      "[[ 9.  4. 15.  0.]\n",
      " [17. 16. 17.  8.]\n",
      " [ 9.  0. nan  8.]]\n",
      "[35. 20. nan 16.]\n",
      "[11.66666667  6.66666667         nan  5.33333333]\n",
      "[ 9.  4. nan  8.]\n",
      "[ 9.  0. nan  0.]\n",
      "[17. 16. nan  8.]\n",
      "[ 8. 16. nan  8.]\n"
     ]
    }
   ],
   "source": [
    "np.random.seed(10)\n",
    "t = np.random.randint(0,20,(3,4)).astype(float)\n",
    "print(t)\n",
    "t[2,2]=np.nan\n",
    "print(t)\n",
    "\n",
    "print(t.sum(axis=0))\n",
    "print(t.mean(axis=0))\n",
    "print(np.median(t, axis=0))\n",
    "print(t.min(axis=0))\n",
    "print(t.max(axis=0))\n",
    "print(np.ptp(t, axis=0))"
   ]
  },
  {
   "cell_type": "code",
   "execution_count": 236,
   "metadata": {},
   "outputs": [
    {
     "name": "stdout",
     "output_type": "stream",
     "text": [
      "[[ 0.  1.  2.  3.]\n",
      " [ 4.  5. nan nan]\n",
      " [ 8.  9. 10. 11.]]\n",
      "[[ 0.  1.  2.  3.]\n",
      " [ 4.  5.  6.  7.]\n",
      " [ 8.  9. 10. 11.]]\n"
     ]
    }
   ],
   "source": [
    "import numpy as np\n",
    "\n",
    "def fill_ndarray(t1):\n",
    "    for i in range(t1.shape[1]): # iterate each column\n",
    "        temp_col = t1[:, i] # current column\n",
    "        nan_num = np.count_nonzero(temp_col!=temp_col)\n",
    "        if nan_num != 0: # not equal to 0, means there exists nan in the current column\n",
    "            temp_not_nan_col = temp_col[temp_col==temp_col] # columns not have nan\n",
    "            temp_col[np.isnan(temp_col)] = temp_not_nan_col.mean()\n",
    "    return t1\n",
    "\n",
    "t1 = np.arange(12).reshape(3,4).astype(\"float\")\n",
    "t1[1,2:] = np.nan\n",
    "print(t1)\n",
    "t1 = fill_ndarray(t1)\n",
    "print(t1)"
   ]
  },
  {
   "cell_type": "code",
   "execution_count": 243,
   "metadata": {},
   "outputs": [
    {
     "name": "stdout",
     "output_type": "stream",
     "text": [
      "4995 0\n"
     ]
    },
    {
     "data": {
      "image/png": "[encoded data removed]",
      "text/plain": [
       "<Figure size 1600x640 with 1 Axes>"
      ]
     },
     "metadata": {
      "needs_background": "light"
     },
     "output_type": "display_data"
    }
   ],
   "source": [
    "import numpy as np\n",
    "from matplotlib import pyplot as plt\n",
    "\n",
    "us_file_path=r\".\\youtube_video_data\\US_video_data_numbers.csv\"\n",
    "uk_file_path=r\".\\youtube_video_data\\GB_video_data_numbers.csv\"\n",
    "\n",
    "t_us = np.loadtxt(us_file_path, delimiter=\",\", dtype=\"int\")\n",
    "t_uk = np.loadtxt(uk_file_path, delimiter=\",\", dtype=\"int\")\n",
    "\n",
    "t_us_comments = t_us[:, -1]\n",
    "t_us_comments = t_us_comments[t_us_comments<=5000]\n",
    "print(t_us_comments.max(), t_us_comments.min())\n",
    "\n",
    "d = 250\n",
    "bin_nums = (t_us_comments.max() - t_us_comments.min()) // d\n",
    "\n",
    "plt.figure(figsize=(20,8),dpi=80)\n",
    "plt.hist(t_us_comments, bin_nums)\n",
    "plt.show()"
   ]
  },
  {
   "cell_type": "code",
   "execution_count": null,
   "metadata": {},
   "outputs": [],
   "source": []
  }
 ],
 "metadata": {
  "kernelspec": {
   "display_name": "Python 3",
   "language": "python",
   "name": "python3"
  },
  "language_info": {
   "codemirror_mode": {
    "name": "ipython",
    "version": 3
   },
   "file_extension": ".py",
   "mimetype": "text/x-python",
   "name": "python",
   "nbconvert_exporter": "python",
   "pygments_lexer": "ipython3",
   "version": "3.8.3"
  }
 },
 "nbformat": 4,
 "nbformat_minor": 4
}
